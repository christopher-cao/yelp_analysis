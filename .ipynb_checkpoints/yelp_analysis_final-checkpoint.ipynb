{
 "cells": [
  {
   "cell_type": "code",
   "execution_count": 98,
   "metadata": {
    "collapsed": false
   },
   "outputs": [],
   "source": [
    "#Scientific Python imports\n",
    "import pandas as pd\n",
    "import numpy as np\n",
    "import matplotlib.pyplot as plt\n",
    "from pandas import Series, DataFrame\n",
    "import matplotlib.pyplot as plt\n",
    "%matplotlib inline\n",
    "######################################################"
   ]
  },
  {
   "cell_type": "code",
   "execution_count": 88,
   "metadata": {
    "collapsed": true
   },
   "outputs": [],
   "source": [
    "#Takes Yelp BRE (Business, Reviews, Elites) CSV file\n",
    "#Returns dataframe of the CSV file \n",
    "def get_business_df(csvfile): \n",
    "    df = pd.read_csv(csvfile)\n",
    "    return df"
   ]
  },
  {
   "cell_type": "code",
   "execution_count": 89,
   "metadata": {
    "collapsed": true
   },
   "outputs": [],
   "source": [
    "#Takes dataframe as input\n",
    "#Returns dictionary with key as business id and value as\n",
    "#indices of the rows in the df with that business id \n",
    "def convert_to_dic(df): \n",
    "    temp = df.groupby('business_id').groups\n",
    "    return temp"
   ]
  },
  {
   "cell_type": "code",
   "execution_count": 90,
   "metadata": {
    "collapsed": true
   },
   "outputs": [],
   "source": [
    "#Function that takes the business id as input \n",
    "#Outputs the difference between before and after elite\n",
    "def find_difference(business_id, df): \n",
    "    # Get index of first elite\n",
    "    elite_status = []\n",
    "    before_elite = []\n",
    "    after_elite = []\n",
    "    \n",
    "    business = byBusiness_dic[business_id]\n",
    "    for i in business:\n",
    "        temp = df.at[i, 'elite_status']\n",
    "        elite_status.append(temp)\n",
    "    \n",
    "    #Convert to numpy array\n",
    "    elite_status = np.array(elite_status)\n",
    "    first_elite_index = np.nonzero(elite_status == 1)[0][0]\n",
    "    \n",
    "    #Get ratings for before and after elite rating\n",
    "    #Find averages for both arrays\n",
    "    for i in range(0, len(business)): \n",
    "        if i <= first_elite_index:\n",
    "            before_elite.append(df.at[business[i],'review_rating'])\n",
    "        else:\n",
    "            after_elite.append(df.at[business[i], 'review_rating'])\n",
    "    \n",
    "    before_elite_avg = np.mean(np.array(before_elite))\n",
    "    after_elite_avg = np.mean(np.array(after_elite))\n",
    "    absolute_difference = abs(after_elite_avg - before_elite_avg)\n",
    "    \n",
    "    return absolute_difference"
   ]
  },
  {
   "cell_type": "code",
   "execution_count": 91,
   "metadata": {
    "collapsed": true
   },
   "outputs": [],
   "source": [
    "#Finds the differences for all businesses\n",
    "#Takes dictionary and dataframe as input\n",
    "#Returns numpy array with differences\n",
    "def difference_array(dataframe, df_dictionary): \n",
    "    diff_array = []\n",
    "    for i in df_dictionary: \n",
    "        diff_array.append(find_difference(i, dataframe))\n",
    "    #conversion to numpy array\n",
    "    diff_array = np.array(diff_array)\n",
    "    return diff_array"
   ]
  },
  {
   "cell_type": "code",
   "execution_count": 92,
   "metadata": {
    "collapsed": false,
    "scrolled": true
   },
   "outputs": [],
   "source": [
    "test_df = get_business_df('BRE2000.csv')"
   ]
  },
  {
   "cell_type": "code",
   "execution_count": 93,
   "metadata": {
    "collapsed": false
   },
   "outputs": [],
   "source": [
    "test_dic = convert_to_dic(test_df)"
   ]
  },
  {
   "cell_type": "code",
   "execution_count": 94,
   "metadata": {
    "collapsed": false
   },
   "outputs": [],
   "source": [
    "differences = difference_array(test_df, test_dic)"
   ]
  },
  {
   "cell_type": "code",
   "execution_count": 95,
   "metadata": {
    "collapsed": false
   },
   "outputs": [
    {
     "data": {
      "text/plain": [
       "0.45898075087222218"
      ]
     },
     "execution_count": 95,
     "metadata": {},
     "output_type": "execute_result"
    }
   ],
   "source": [
    "np.mean(differences)"
   ]
  },
  {
   "cell_type": "code",
   "execution_count": 100,
   "metadata": {
    "collapsed": false
   },
   "outputs": [
    {
     "data": {
      "text/plain": [
       "[<matplotlib.lines.Line2D at 0x11827ba90>]"
      ]
     },
     "execution_count": 100,
     "metadata": {},
     "output_type": "execute_result"
    },
    {
     "data": {
      "image/png": "[encoded data removed]",
      "text/plain": [
       "<matplotlib.figure.Figure at 0x117cf6588>"
      ]
     },
     "metadata": {},
     "output_type": "display_data"
    }
   ],
   "source": [
    "plt.plot(differences)"
   ]
  },
  {
   "cell_type": "code",
   "execution_count": null,
   "metadata": {
    "collapsed": true
   },
   "outputs": [],
   "source": []
  }
 ],
 "metadata": {
  "kernelspec": {
   "display_name": "Python 3",
   "language": "python",
   "name": "python3"
  },
  "language_info": {
   "codemirror_mode": {
    "name": "ipython",
    "version": 3
   },
   "file_extension": ".py",
   "mimetype": "text/x-python",
   "name": "python",
   "nbconvert_exporter": "python",
   "pygments_lexer": "ipython3",
   "version": "3.5.1"
  }
 },
 "nbformat": 4,
 "nbformat_minor": 0
}
