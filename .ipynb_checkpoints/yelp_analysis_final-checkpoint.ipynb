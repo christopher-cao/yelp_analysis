{
 "cells": [
  {
   "cell_type": "code",
   "execution_count": 39,
   "metadata": {
    "collapsed": false
   },
   "outputs": [],
   "source": [
    "# !/Users/Chris/anaconda3/bin/pip install MySQL-python"
   ]
  },
  {
   "cell_type": "code",
   "execution_count": 2,
   "metadata": {
    "collapsed": false
   },
   "outputs": [],
   "source": [
    "#Scientific Python\n",
    "import pandas as pd\n",
    "import numpy as np\n",
    "import matplotlib.pyplot as plt\n",
    "from pandas import Series, DataFrame\n",
    "\n",
    "######################################################\n"
   ]
  },
  {
   "cell_type": "code",
   "execution_count": 3,
   "metadata": {
    "collapsed": false
   },
   "outputs": [
    {
     "data": {
      "text/html": [
       "<div>\n",
       "<table border=\"1\" class=\"dataframe\">\n",
       "  <thead>\n",
       "    <tr style=\"text-align: right;\">\n",
       "      <th></th>\n",
       "      <th>business_id</th>\n",
       "      <th>review_rating</th>\n",
       "      <th>review_date</th>\n",
       "      <th>elite_status</th>\n",
       "    </tr>\n",
       "  </thead>\n",
       "  <tbody>\n",
       "    <tr>\n",
       "      <th>0</th>\n",
       "      <td>-0Ackw6MF82PXO9f9Jh_Kg</td>\n",
       "      <td>4</td>\n",
       "      <td>5/24/09</td>\n",
       "      <td>0</td>\n",
       "    </tr>\n",
       "    <tr>\n",
       "      <th>1</th>\n",
       "      <td>-0Ackw6MF82PXO9f9Jh_Kg</td>\n",
       "      <td>3</td>\n",
       "      <td>7/6/09</td>\n",
       "      <td>0</td>\n",
       "    </tr>\n",
       "    <tr>\n",
       "      <th>2</th>\n",
       "      <td>-0Ackw6MF82PXO9f9Jh_Kg</td>\n",
       "      <td>4</td>\n",
       "      <td>7/7/09</td>\n",
       "      <td>0</td>\n",
       "    </tr>\n",
       "    <tr>\n",
       "      <th>3</th>\n",
       "      <td>-0Ackw6MF82PXO9f9Jh_Kg</td>\n",
       "      <td>3</td>\n",
       "      <td>7/13/09</td>\n",
       "      <td>0</td>\n",
       "    </tr>\n",
       "    <tr>\n",
       "      <th>4</th>\n",
       "      <td>-0Ackw6MF82PXO9f9Jh_Kg</td>\n",
       "      <td>2</td>\n",
       "      <td>8/3/09</td>\n",
       "      <td>0</td>\n",
       "    </tr>\n",
       "  </tbody>\n",
       "</table>\n",
       "</div>"
      ],
      "text/plain": [
       "              business_id  review_rating review_date  elite_status\n",
       "0  -0Ackw6MF82PXO9f9Jh_Kg              4     5/24/09             0\n",
       "1  -0Ackw6MF82PXO9f9Jh_Kg              3      7/6/09             0\n",
       "2  -0Ackw6MF82PXO9f9Jh_Kg              4      7/7/09             0\n",
       "3  -0Ackw6MF82PXO9f9Jh_Kg              3     7/13/09             0\n",
       "4  -0Ackw6MF82PXO9f9Jh_Kg              2      8/3/09             0"
      ]
     },
     "execution_count": 3,
     "metadata": {},
     "output_type": "execute_result"
    }
   ],
   "source": [
    "# df = pd.read_csv('BRE2000.csv', parse_dates = True)\n",
    "# df.head()"
   ]
  },
  {
   "cell_type": "code",
   "execution_count": 6,
   "metadata": {
    "collapsed": false
   },
   "outputs": [],
   "source": [
    "#Convert review_date to datetime object\n",
    "# df['review_date'] = pd.to_datetime(df['review_date'])"
   ]
  },
  {
   "cell_type": "code",
   "execution_count": 7,
   "metadata": {
    "collapsed": false
   },
   "outputs": [],
   "source": [
    "# byBusiness = df.groupby('business_id')"
   ]
  },
  {
   "cell_type": "code",
   "execution_count": 12,
   "metadata": {
    "collapsed": false
   },
   "outputs": [
    {
     "name": "stdout",
     "output_type": "stream",
     "text": [
      "-36CwMJZJigqPMYrx9BJzw\n",
      "-0GkcDiIgVm0XzDZC8RFOg\n",
      "-0Ackw6MF82PXO9f9Jh_Kg\n",
      "-3WVw1TNQbPBzaKCaQQ1AQ\n",
      "-1tQu_yKCOgOj-WtXmMYIA\n",
      "-1ERbsOf9XOC9wGbZYFr7g\n",
      "-1bOb2izeJBZjHC7NWxiPA\n",
      "-2n-OHbbwIv3SY8RP9bgTQ\n"
     ]
    }
   ],
   "source": [
    "# Converts the groupby object to dictionary\n",
    "# Where the key is the business id and value is \n",
    "# the rows in the original df with that business id\n",
    "# byBusiness_dic = byBusiness.groups\n",
    "# for i in byBusiness_dic:\n",
    "#     print(i)"
   ]
  },
  {
   "cell_type": "code",
   "execution_count": 10,
   "metadata": {
    "collapsed": false
   },
   "outputs": [],
   "source": [
    "# # Get the index of the first elite\n",
    "# elite_status = []\n",
    "# business = byBusiness_dic['-2n-OHbbwIv3SY8RP9bgTQ']\n",
    "# for i in business:\n",
    "#     temp = df.at[i, 'elite_status']\n",
    "#     elite_status.append(temp)\n",
    "\n",
    "# #convert to numpy array\n",
    "# elite_status = np.array(elite_status)\n",
    "# first_elite_index = np.nonzero(elite_status == 1)[0][0]"
   ]
  },
  {
   "cell_type": "code",
   "execution_count": 13,
   "metadata": {
    "collapsed": false
   },
   "outputs": [
    {
     "name": "stdout",
     "output_type": "stream",
     "text": [
      "difference = 0.0471821756225\n"
     ]
    }
   ],
   "source": [
    "# # Get the ratings for before and after the elite rating\n",
    "# # Find their averages\n",
    "# before_elite = []\n",
    "# after_elite = []\n",
    "\n",
    "# for i in range(0, len(business)):\n",
    "#     if i <= first_elite_index:\n",
    "#         before_elite.append(df.at[business[i],'review_rating'])\n",
    "#     elif i > first_elite_index:\n",
    "#         after_elite.append(df.at[business[i],'review_rating'])\n",
    "#     else:\n",
    "#         pass\n",
    "    \n",
    "# before_elite_avg = np.mean(np.array(before_elite))\n",
    "# after_elite_avg = np.mean(np.array(after_elite))\n",
    "# absolute_difference = abs(after_elite_avg - before_elite_avg)\n",
    "\n",
    "# # print(before_elite, \"\\n\", after_elite)\n",
    "# # print(before_elite_avg, \"\\n\", after_elite_avg)\n",
    "# print(\"difference =\", absolute_difference)"
   ]
  },
  {
   "cell_type": "code",
   "execution_count": 23,
   "metadata": {
    "collapsed": true
   },
   "outputs": [],
   "source": [
    "#Takes Yelp BRE (Business, Reviews, Elites) CSV file\n",
    "#Returns dataframe\n",
    "def get_business_df(csvfile): \n",
    "    df = pd.read_csv(csvfile)\n",
    "    return df"
   ]
  },
  {
   "cell_type": "code",
   "execution_count": 40,
   "metadata": {
    "collapsed": true
   },
   "outputs": [],
   "source": [
    "#Takes dataframe as input\n",
    "#Returns dictionary with key as business id and value as\n",
    "#indices of the rows in the df with that business id \n",
    "def convert_to_dic(df): \n",
    "    temp = df.groupby('business_id').groups\n",
    "    return temp"
   ]
  },
  {
   "cell_type": "code",
   "execution_count": 33,
   "metadata": {
    "collapsed": true
   },
   "outputs": [],
   "source": [
    "#Function that takes the business id as input \n",
    "#Outputs the difference between before and after elite\n",
    "def find_difference(business_id, df): \n",
    "    # Get index of first elite\n",
    "    elite_status = []\n",
    "    before_elite = []\n",
    "    after_elite = []\n",
    "    \n",
    "    business = byBusiness_dic[business_id]\n",
    "    for i in business:\n",
    "        temp = df.at[i, 'elite_status']\n",
    "        elite_status.append(temp)\n",
    "    \n",
    "    #Convert to numpy array\n",
    "    elite_status = np.array(elite_status)\n",
    "    first_elite_index = np.nonzero(elite_status == 1)[0][0]\n",
    "    \n",
    "    #Get ratings for before and after elite rating\n",
    "    #Find averages for both arrays\n",
    "    for i in range(0, len(business)): \n",
    "        if i <= first_elite_index:\n",
    "            before_elite.append(df.at[business[i],'review_rating'])\n",
    "        else:\n",
    "            after_elite.append(df.at[business[i], 'review_rating'])\n",
    "    \n",
    "    before_elite_avg = np.mean(np.array(before_elite))\n",
    "    after_elite_avg = np.mean(np.array(after_elite))\n",
    "    absolute_difference = abs(after_elite_avg - before_elite_avg)\n",
    "    \n",
    "    return absolute_difference"
   ]
  },
  {
   "cell_type": "code",
   "execution_count": 58,
   "metadata": {
    "collapsed": true
   },
   "outputs": [],
   "source": [
    "#Finds the differences for all businesses\n",
    "#Takes dictionary and dataframe as input\n",
    "#Returns numpy array with differences\n",
    "def difference_array(dataframe, df_dictionary): \n",
    "    diff_array = []\n",
    "    for i in df_dictionary: \n",
    "        diff_array.append(find_difference(i, dataframe))\n",
    "    #conversion to numpy array\n",
    "    diff_array = np.array(diff_array)\n",
    "    return diff_array"
   ]
  },
  {
   "cell_type": "code",
   "execution_count": 55,
   "metadata": {
    "collapsed": false,
    "scrolled": true
   },
   "outputs": [],
   "source": [
    "test_df = get_business_df('BRE2000.csv')"
   ]
  },
  {
   "cell_type": "code",
   "execution_count": 56,
   "metadata": {
    "collapsed": false
   },
   "outputs": [],
   "source": [
    "test_dic = convert_to_dic(test_df)"
   ]
  },
  {
   "cell_type": "code",
   "execution_count": 60,
   "metadata": {
    "collapsed": false
   },
   "outputs": [],
   "source": [
    "differences = difference_array(test_df, test_dic)"
   ]
  },
  {
   "cell_type": "code",
   "execution_count": 61,
   "metadata": {
    "collapsed": false
   },
   "outputs": [
    {
     "data": {
      "text/plain": [
       "0.45898075087222218"
      ]
     },
     "execution_count": 61,
     "metadata": {},
     "output_type": "execute_result"
    }
   ],
   "source": [
    "np.mean(differences)"
   ]
  },
  {
   "cell_type": "code",
   "execution_count": null,
   "metadata": {
    "collapsed": true
   },
   "outputs": [],
   "source": []
  }
 ],
 "metadata": {
  "kernelspec": {
   "display_name": "Python 3",
   "language": "python",
   "name": "python3"
  },
  "language_info": {
   "codemirror_mode": {
    "name": "ipython",
    "version": 3
   },
   "file_extension": ".py",
   "mimetype": "text/x-python",
   "name": "python",
   "nbconvert_exporter": "python",
   "pygments_lexer": "ipython3",
   "version": "3.5.1"
  }
 },
 "nbformat": 4,
 "nbformat_minor": 0
}
